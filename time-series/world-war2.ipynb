{
 "cells": [
  {
   "cell_type": "markdown",
   "metadata": {},
   "source": [
    "# 라이브러리 관리"
   ]
  },
  {
   "cell_type": "code",
   "execution_count": 1,
   "metadata": {},
   "outputs": [],
   "source": [
    "import pandas as pd"
   ]
  },
  {
   "cell_type": "markdown",
   "metadata": {},
   "source": [
    "# 데이터 불러오기"
   ]
  },
  {
   "cell_type": "code",
   "execution_count": 3,
   "metadata": {},
   "outputs": [
    {
     "name": "stdout",
     "output_type": "stream",
     "text": [
      "    WBAN            NAME STATE/COUNTRY ID    LAT     LON  ELEV   Latitude  \\\n",
      "0  33013          AIN EL               AL  3623N  00637E   611  36.383333   \n",
      "1  33031        LA SENIA               AL  3537N  00037E    88  35.616667   \n",
      "2  33023  MAISON BLANCHE               AL  3643N  00314E    23  36.716667   \n",
      "3  33044        TELERGMA               AL  3607N  00621E   754  36.116667   \n",
      "4  12001         TINDOUF               AL  2741N  00809W   443  27.683333   \n",
      "\n",
      "   Longitude  \n",
      "0   6.650000  \n",
      "1   0.583333  \n",
      "2   3.216667  \n",
      "3   6.416667  \n",
      "4  -8.083333  \n",
      "     STA      Date Precip  WindGustSpd    MaxTemp    MinTemp   MeanTemp  \\\n",
      "0  10001  1942-7-1  1.016          NaN  25.555556  22.222222  23.888889   \n",
      "1  10001  1942-7-2      0          NaN  28.888889  21.666667  25.555556   \n",
      "2  10001  1942-7-3   2.54          NaN  26.111111  22.222222  24.444444   \n",
      "3  10001  1942-7-4   2.54          NaN  26.666667  22.222222  24.444444   \n",
      "4  10001  1942-7-5      0          NaN  26.666667  21.666667  24.444444   \n",
      "\n",
      "  Snowfall PoorWeather  YR  ...  FB  FTI ITH  PGT  TSHDSBRSGF  SD3  RHX  RHN  \\\n",
      "0      0.0         NaN  42  ... NaN  NaN NaN  NaN         NaN  NaN  NaN  NaN   \n",
      "1      0.0         NaN  42  ... NaN  NaN NaN  NaN         NaN  NaN  NaN  NaN   \n",
      "2      0.0         NaN  42  ... NaN  NaN NaN  NaN         NaN  NaN  NaN  NaN   \n",
      "3      0.0         NaN  42  ... NaN  NaN NaN  NaN         NaN  NaN  NaN  NaN   \n",
      "4      0.0         NaN  42  ... NaN  NaN NaN  NaN         NaN  NaN  NaN  NaN   \n",
      "\n",
      "  RVG  WTE  \n",
      "0 NaN  NaN  \n",
      "1 NaN  NaN  \n",
      "2 NaN  NaN  \n",
      "3 NaN  NaN  \n",
      "4 NaN  NaN  \n",
      "\n",
      "[5 rows x 31 columns]\n"
     ]
    },
    {
     "name": "stderr",
     "output_type": "stream",
     "text": [
      "/var/folders/dn/kpsvhr056zz6gvcnmgrkklzr0000gn/T/ipykernel_35183/2725674899.py:2: DtypeWarning: Columns (7,8,18,25) have mixed types. Specify dtype option on import or set low_memory=False.\n",
      "  weather_summary = pd.read_csv('data/Summary of Weather.csv')\n"
     ]
    }
   ],
   "source": [
    "weather_location = pd.read_csv('data/Weather Station Locations.csv')\n",
    "weather_summary = pd.read_csv('data/Summary of Weather.csv')\n",
    "print(weather_location.head())\n",
    "print(weather_summary.head())"
   ]
  },
  {
   "cell_type": "markdown",
   "metadata": {},
   "source": [
    "# 데이터 전처리"
   ]
  },
  {
   "cell_type": "code",
   "execution_count": 8,
   "metadata": {},
   "outputs": [],
   "source": [
    "# 필요없는 컬럼 제거 및 결측값 확인\n",
    "weather_summary = weather_summary[['STA', 'Date', 'Precip', 'MaxTemp', 'MinTemp', 'MeanTemp', 'Snowfall', 'PoorWeather']]"
   ]
  },
  {
   "cell_type": "code",
   "execution_count": 10,
   "metadata": {},
   "outputs": [
    {
     "data": {
      "text/plain": [
       "STA                0\n",
       "Date               0\n",
       "Precip             0\n",
       "MaxTemp            0\n",
       "MinTemp            0\n",
       "MeanTemp           0\n",
       "Snowfall        1163\n",
       "PoorWeather    84803\n",
       "dtype: int64"
      ]
     },
     "execution_count": 10,
     "metadata": {},
     "output_type": "execute_result"
    }
   ],
   "source": [
    "# 결측값 확인\n",
    "missing_values_summary = weather_summary.isnull().sum()\n",
    "missing_values_summary"
   ]
  },
  {
   "cell_type": "code",
   "execution_count": 11,
   "metadata": {},
   "outputs": [],
   "source": [
    "# Weather Station Locations 데이터\n",
    "weather_location = weather_location[['WBAN', 'NAME', 'LAT', 'LON', 'ELEV']]"
   ]
  },
  {
   "cell_type": "code",
   "execution_count": 12,
   "metadata": {},
   "outputs": [
    {
     "data": {
      "text/plain": [
       "WBAN    0\n",
       "NAME    0\n",
       "LAT     0\n",
       "LON     0\n",
       "ELEV    0\n",
       "dtype: int64"
      ]
     },
     "execution_count": 12,
     "metadata": {},
     "output_type": "execute_result"
    }
   ],
   "source": [
    "# 결측값 확인\n",
    "weather_location = weather_location.isnull().sum()\n",
    "weather_location"
   ]
  },
  {
   "cell_type": "markdown",
   "metadata": {},
   "source": [
    "# 결측값 처리"
   ]
  },
  {
   "cell_type": "code",
   "execution_count": 13,
   "metadata": {},
   "outputs": [
    {
     "name": "stderr",
     "output_type": "stream",
     "text": [
      "/var/folders/dn/kpsvhr056zz6gvcnmgrkklzr0000gn/T/ipykernel_35183/2649625334.py:3: FutureWarning: A value is trying to be set on a copy of a DataFrame or Series through chained assignment using an inplace method.\n",
      "The behavior will change in pandas 3.0. This inplace method will never work because the intermediate object on which we are setting values always behaves as a copy.\n",
      "\n",
      "For example, when doing 'df[col].method(value, inplace=True)', try using 'df.method({col: value}, inplace=True)' or df[col] = df[col].method(value) instead, to perform the operation inplace on the original object.\n",
      "\n",
      "\n",
      "  weather_summary['Snowfall'].fillna(0, inplace=True)\n",
      "/var/folders/dn/kpsvhr056zz6gvcnmgrkklzr0000gn/T/ipykernel_35183/2649625334.py:4: FutureWarning: A value is trying to be set on a copy of a DataFrame or Series through chained assignment using an inplace method.\n",
      "The behavior will change in pandas 3.0. This inplace method will never work because the intermediate object on which we are setting values always behaves as a copy.\n",
      "\n",
      "For example, when doing 'df[col].method(value, inplace=True)', try using 'df.method({col: value}, inplace=True)' or df[col] = df[col].method(value) instead, to perform the operation inplace on the original object.\n",
      "\n",
      "\n",
      "  weather_summary['PoorWeather'].fillna('None', inplace=True)\n"
     ]
    }
   ],
   "source": [
    "# 결측값 처리 - Snowfall과 PoorWeather\n",
    "# Snowfall의 결측값은 0으로, PoorWeather의 결측값은 'None'으로 채워줍니다.\n",
    "weather_summary['Snowfall'].fillna(0, inplace=True)\n",
    "weather_summary['PoorWeather'].fillna('None', inplace=True)"
   ]
  },
  {
   "cell_type": "code",
   "execution_count": 14,
   "metadata": {},
   "outputs": [
    {
     "data": {
      "text/plain": [
       "STA            0\n",
       "Date           0\n",
       "Precip         0\n",
       "MaxTemp        0\n",
       "MinTemp        0\n",
       "MeanTemp       0\n",
       "Snowfall       0\n",
       "PoorWeather    0\n",
       "dtype: int64"
      ]
     },
     "execution_count": 14,
     "metadata": {},
     "output_type": "execute_result"
    }
   ],
   "source": [
    "# 결측값이 모두 처리되었는지 확인\n",
    "missing_values_after_processing = weather_summary.isnull().sum()\n",
    "missing_values_after_processing"
   ]
  },
  {
   "cell_type": "code",
   "execution_count": 15,
   "metadata": {},
   "outputs": [],
   "source": [
    "# 데이터 결합 - STA와 WBAN을 기준으로 결합\n",
    "# combined_df = pd.merge(weather_summary, weather_locations, left_on='STA', right_on='WBAN', how='left')"
   ]
  },
  {
   "cell_type": "code",
   "execution_count": 19,
   "metadata": {},
   "outputs": [
    {
     "data": {
      "text/plain": [
       "WBAN    0\n",
       "NAME    0\n",
       "LAT     0\n",
       "LON     0\n",
       "ELEV    0\n",
       "dtype: int64"
      ]
     },
     "execution_count": 19,
     "metadata": {},
     "output_type": "execute_result"
    }
   ],
   "source": [
    "weather_location"
   ]
  },
  {
   "cell_type": "code",
   "execution_count": 17,
   "metadata": {},
   "outputs": [
    {
     "data": {
      "text/html": [
       "<div>\n",
       "<style scoped>\n",
       "    .dataframe tbody tr th:only-of-type {\n",
       "        vertical-align: middle;\n",
       "    }\n",
       "\n",
       "    .dataframe tbody tr th {\n",
       "        vertical-align: top;\n",
       "    }\n",
       "\n",
       "    .dataframe thead th {\n",
       "        text-align: right;\n",
       "    }\n",
       "</style>\n",
       "<table border=\"1\" class=\"dataframe\">\n",
       "  <thead>\n",
       "    <tr style=\"text-align: right;\">\n",
       "      <th></th>\n",
       "      <th>STA</th>\n",
       "      <th>Date</th>\n",
       "      <th>Precip</th>\n",
       "      <th>MaxTemp</th>\n",
       "      <th>MinTemp</th>\n",
       "      <th>MeanTemp</th>\n",
       "      <th>Snowfall</th>\n",
       "      <th>PoorWeather</th>\n",
       "    </tr>\n",
       "  </thead>\n",
       "  <tbody>\n",
       "    <tr>\n",
       "      <th>0</th>\n",
       "      <td>10001</td>\n",
       "      <td>1942-7-1</td>\n",
       "      <td>1.016</td>\n",
       "      <td>25.555556</td>\n",
       "      <td>22.222222</td>\n",
       "      <td>23.888889</td>\n",
       "      <td>0.0</td>\n",
       "      <td>None</td>\n",
       "    </tr>\n",
       "    <tr>\n",
       "      <th>1</th>\n",
       "      <td>10001</td>\n",
       "      <td>1942-7-2</td>\n",
       "      <td>0</td>\n",
       "      <td>28.888889</td>\n",
       "      <td>21.666667</td>\n",
       "      <td>25.555556</td>\n",
       "      <td>0.0</td>\n",
       "      <td>None</td>\n",
       "    </tr>\n",
       "    <tr>\n",
       "      <th>2</th>\n",
       "      <td>10001</td>\n",
       "      <td>1942-7-3</td>\n",
       "      <td>2.54</td>\n",
       "      <td>26.111111</td>\n",
       "      <td>22.222222</td>\n",
       "      <td>24.444444</td>\n",
       "      <td>0.0</td>\n",
       "      <td>None</td>\n",
       "    </tr>\n",
       "    <tr>\n",
       "      <th>3</th>\n",
       "      <td>10001</td>\n",
       "      <td>1942-7-4</td>\n",
       "      <td>2.54</td>\n",
       "      <td>26.666667</td>\n",
       "      <td>22.222222</td>\n",
       "      <td>24.444444</td>\n",
       "      <td>0.0</td>\n",
       "      <td>None</td>\n",
       "    </tr>\n",
       "    <tr>\n",
       "      <th>4</th>\n",
       "      <td>10001</td>\n",
       "      <td>1942-7-5</td>\n",
       "      <td>0</td>\n",
       "      <td>26.666667</td>\n",
       "      <td>21.666667</td>\n",
       "      <td>24.444444</td>\n",
       "      <td>0.0</td>\n",
       "      <td>None</td>\n",
       "    </tr>\n",
       "    <tr>\n",
       "      <th>...</th>\n",
       "      <td>...</td>\n",
       "      <td>...</td>\n",
       "      <td>...</td>\n",
       "      <td>...</td>\n",
       "      <td>...</td>\n",
       "      <td>...</td>\n",
       "      <td>...</td>\n",
       "      <td>...</td>\n",
       "    </tr>\n",
       "    <tr>\n",
       "      <th>119035</th>\n",
       "      <td>82506</td>\n",
       "      <td>1945-12-27</td>\n",
       "      <td>0</td>\n",
       "      <td>28.333333</td>\n",
       "      <td>18.333333</td>\n",
       "      <td>23.333333</td>\n",
       "      <td>0.0</td>\n",
       "      <td>None</td>\n",
       "    </tr>\n",
       "    <tr>\n",
       "      <th>119036</th>\n",
       "      <td>82506</td>\n",
       "      <td>1945-12-28</td>\n",
       "      <td>9.906</td>\n",
       "      <td>29.444444</td>\n",
       "      <td>18.333333</td>\n",
       "      <td>23.888889</td>\n",
       "      <td>0.0</td>\n",
       "      <td>1.0</td>\n",
       "    </tr>\n",
       "    <tr>\n",
       "      <th>119037</th>\n",
       "      <td>82506</td>\n",
       "      <td>1945-12-29</td>\n",
       "      <td>0</td>\n",
       "      <td>28.333333</td>\n",
       "      <td>18.333333</td>\n",
       "      <td>23.333333</td>\n",
       "      <td>0.0</td>\n",
       "      <td>1.0</td>\n",
       "    </tr>\n",
       "    <tr>\n",
       "      <th>119038</th>\n",
       "      <td>82506</td>\n",
       "      <td>1945-12-30</td>\n",
       "      <td>0</td>\n",
       "      <td>28.333333</td>\n",
       "      <td>18.333333</td>\n",
       "      <td>23.333333</td>\n",
       "      <td>0.0</td>\n",
       "      <td>None</td>\n",
       "    </tr>\n",
       "    <tr>\n",
       "      <th>119039</th>\n",
       "      <td>82506</td>\n",
       "      <td>1945-12-31</td>\n",
       "      <td>0</td>\n",
       "      <td>29.444444</td>\n",
       "      <td>17.222222</td>\n",
       "      <td>23.333333</td>\n",
       "      <td>0.0</td>\n",
       "      <td>None</td>\n",
       "    </tr>\n",
       "  </tbody>\n",
       "</table>\n",
       "<p>119040 rows × 8 columns</p>\n",
       "</div>"
      ],
      "text/plain": [
       "          STA        Date Precip    MaxTemp    MinTemp   MeanTemp Snowfall  \\\n",
       "0       10001    1942-7-1  1.016  25.555556  22.222222  23.888889      0.0   \n",
       "1       10001    1942-7-2      0  28.888889  21.666667  25.555556      0.0   \n",
       "2       10001    1942-7-3   2.54  26.111111  22.222222  24.444444      0.0   \n",
       "3       10001    1942-7-4   2.54  26.666667  22.222222  24.444444      0.0   \n",
       "4       10001    1942-7-5      0  26.666667  21.666667  24.444444      0.0   \n",
       "...       ...         ...    ...        ...        ...        ...      ...   \n",
       "119035  82506  1945-12-27      0  28.333333  18.333333  23.333333      0.0   \n",
       "119036  82506  1945-12-28  9.906  29.444444  18.333333  23.888889      0.0   \n",
       "119037  82506  1945-12-29      0  28.333333  18.333333  23.333333      0.0   \n",
       "119038  82506  1945-12-30      0  28.333333  18.333333  23.333333      0.0   \n",
       "119039  82506  1945-12-31      0  29.444444  17.222222  23.333333      0.0   \n",
       "\n",
       "       PoorWeather  \n",
       "0             None  \n",
       "1             None  \n",
       "2             None  \n",
       "3             None  \n",
       "4             None  \n",
       "...            ...  \n",
       "119035        None  \n",
       "119036         1.0  \n",
       "119037         1.0  \n",
       "119038        None  \n",
       "119039        None  \n",
       "\n",
       "[119040 rows x 8 columns]"
      ]
     },
     "execution_count": 17,
     "metadata": {},
     "output_type": "execute_result"
    }
   ],
   "source": [
    "weather_summary"
   ]
  }
 ],
 "metadata": {
  "kernelspec": {
   "display_name": "base",
   "language": "python",
   "name": "python3"
  },
  "language_info": {
   "codemirror_mode": {
    "name": "ipython",
    "version": 3
   },
   "file_extension": ".py",
   "mimetype": "text/x-python",
   "name": "python",
   "nbconvert_exporter": "python",
   "pygments_lexer": "ipython3",
   "version": "3.12.2"
  }
 },
 "nbformat": 4,
 "nbformat_minor": 2
}
